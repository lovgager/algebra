{
 "cells": [
  {
   "cell_type": "code",
   "execution_count": 17,
   "metadata": {},
   "outputs": [],
   "source": [
    "# Гаврилов Олег. Домашнее задание 4"
   ]
  },
  {
   "cell_type": "code",
   "execution_count": 1,
   "metadata": {},
   "outputs": [],
   "source": [
    "import numpy as np"
   ]
  },
  {
   "cell_type": "code",
   "execution_count": 2,
   "metadata": {},
   "outputs": [],
   "source": [
    "N = 32\n",
    "A = np.zeros([N, N, N, N, N])\n",
    "for i1 in range(N):\n",
    "    for i2 in range(N):\n",
    "        for i3 in range(N):\n",
    "            for i4 in range(N):\n",
    "                for i5 in range(N):\n",
    "                    A[i1, i2, i3, i4, i5] = (i1 + i2 + i3 + i4 + i5)**2"
   ]
  },
  {
   "cell_type": "code",
   "execution_count": 3,
   "metadata": {},
   "outputs": [],
   "source": [
    "A1 = A.reshape(N, N*N*N*N)"
   ]
  },
  {
   "cell_type": "code",
   "execution_count": 4,
   "metadata": {},
   "outputs": [],
   "source": [
    "U, s, V = np.linalg.svd(A1, full_matrices=False)\n",
    "U = U[:, :3]; s = s[:3]; V = V[:3, :]"
   ]
  },
  {
   "cell_type": "code",
   "execution_count": 5,
   "metadata": {},
   "outputs": [],
   "source": [
    "U1 = U @ np.diag(s)"
   ]
  },
  {
   "cell_type": "code",
   "execution_count": 6,
   "metadata": {},
   "outputs": [],
   "source": [
    "V = V.reshape(3*N, N*N*N)"
   ]
  },
  {
   "cell_type": "code",
   "execution_count": 7,
   "metadata": {},
   "outputs": [],
   "source": [
    "U, s, V = np.linalg.svd(V, full_matrices=False)\n",
    "U = U[:, :3]; s = s[:3]; V = V[:3, :]"
   ]
  },
  {
   "cell_type": "code",
   "execution_count": 8,
   "metadata": {},
   "outputs": [],
   "source": [
    "U2 = (U @ np.diag(s)).reshape(3, N, 3)"
   ]
  },
  {
   "cell_type": "code",
   "execution_count": 9,
   "metadata": {},
   "outputs": [],
   "source": [
    "V = V.reshape(3*N, N*N)"
   ]
  },
  {
   "cell_type": "code",
   "execution_count": 10,
   "metadata": {},
   "outputs": [],
   "source": [
    "U, s, V = np.linalg.svd(V, full_matrices=False)\n",
    "U = U[:, :3]; s = s[:3]; V = V[:3, :]"
   ]
  },
  {
   "cell_type": "code",
   "execution_count": 11,
   "metadata": {},
   "outputs": [],
   "source": [
    "U3 = (U @ np.diag(s)).reshape(3, N, 3)"
   ]
  },
  {
   "cell_type": "code",
   "execution_count": 12,
   "metadata": {},
   "outputs": [],
   "source": [
    "V = V.reshape(3*N, N)"
   ]
  },
  {
   "cell_type": "code",
   "execution_count": 13,
   "metadata": {},
   "outputs": [],
   "source": [
    "U, s, V = np.linalg.svd(V, full_matrices=False)\n",
    "U = U[:, :3]; s = s[:3]; V = V[:3, :]"
   ]
  },
  {
   "cell_type": "code",
   "execution_count": 14,
   "metadata": {},
   "outputs": [],
   "source": [
    "U4 = (U @ np.diag(s)).reshape(3, N, 3)"
   ]
  },
  {
   "cell_type": "code",
   "execution_count": 15,
   "metadata": {},
   "outputs": [],
   "source": [
    "U5 = V"
   ]
  },
  {
   "cell_type": "code",
   "execution_count": 16,
   "metadata": {},
   "outputs": [],
   "source": [
    "for i1 in range(N):\n",
    "    for i2 in range(N):\n",
    "        for i3 in range(N):\n",
    "            for i4 in range(N):\n",
    "                for i5 in range(N):\n",
    "                    err = A[i1, i2, i3, i4, i5] - U1[i1, :] @ U2[:, i2, :] @ U3[:, i3, :] @ U4[:, i4, :] @ U5[:, i5]\n",
    "                    if np.abs(err) > 1e-6:\n",
    "                        print('h', i1, i2, i3, i4, i5, err)"
   ]
  }
 ],
 "metadata": {
  "kernelspec": {
   "display_name": "Python 3",
   "language": "python",
   "name": "python3"
  },
  "language_info": {
   "codemirror_mode": {
    "name": "ipython",
    "version": 3
   },
   "file_extension": ".py",
   "mimetype": "text/x-python",
   "name": "python",
   "nbconvert_exporter": "python",
   "pygments_lexer": "ipython3",
   "version": "3.7.6"
  }
 },
 "nbformat": 4,
 "nbformat_minor": 4
}
