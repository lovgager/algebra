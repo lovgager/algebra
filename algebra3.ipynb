{
 "cells": [
  {
   "cell_type": "code",
   "execution_count": 66,
   "metadata": {},
   "outputs": [],
   "source": [
    "# Гаврилов Олег. Домашнее задание 3"
   ]
  },
  {
   "cell_type": "code",
   "execution_count": 1,
   "metadata": {},
   "outputs": [],
   "source": [
    "import numpy as np"
   ]
  },
  {
   "cell_type": "code",
   "execution_count": 47,
   "metadata": {},
   "outputs": [],
   "source": [
    "# формируем трёхмерный массив (i + j + k)^2\n",
    "\n",
    "N = 128\n",
    "A = np.zeros((N, N, N))\n",
    "for i in range(N):\n",
    "    for j in range(N):\n",
    "        for k in range(N):\n",
    "            A[i, j, k] = (i + j + k)**2"
   ]
  },
  {
   "cell_type": "code",
   "execution_count": 48,
   "metadata": {},
   "outputs": [],
   "source": [
    "A = A.reshape(N, N*N)"
   ]
  },
  {
   "cell_type": "code",
   "execution_count": 49,
   "metadata": {},
   "outputs": [],
   "source": [
    "# первый раз применяем SVD\n",
    "\n",
    "U1, s1, V1 = np.linalg.svd(A, full_matrices=False)"
   ]
  },
  {
   "cell_type": "code",
   "execution_count": 50,
   "metadata": {},
   "outputs": [
    {
     "data": {
      "text/plain": [
       "array([6.86042382e+07, 4.13296426e+06, 1.63155491e+05, 8.82380470e-07,\n",
       "       7.70498566e-07, 6.14468278e-07, 4.56119199e-07, 3.71966586e-07,\n",
       "       3.06067406e-07, 2.37012762e-07])"
      ]
     },
     "execution_count": 50,
     "metadata": {},
     "output_type": "execute_result"
    }
   ],
   "source": [
    "s1[:10] #видим только три ненулевых сингулярных числа, значит ранг равен 3"
   ]
  },
  {
   "cell_type": "code",
   "execution_count": 51,
   "metadata": {},
   "outputs": [],
   "source": [
    "# сокращаем матрицы разложения до матриц ранга 3\n",
    "\n",
    "U1 = U1[:, :3]; s1 = s1[:3]; V1 = V1[:3, :]"
   ]
  },
  {
   "cell_type": "code",
   "execution_count": 52,
   "metadata": {},
   "outputs": [
    {
     "data": {
      "text/plain": [
       "1.0138758592940491e-06"
      ]
     },
     "execution_count": 52,
     "metadata": {},
     "output_type": "execute_result"
    }
   ],
   "source": [
    "# проверяем, что сокращённое SVD вычислено правильно\n",
    "\n",
    "np.linalg.norm(U1 @ np.diag(s1) @ V1 - A)"
   ]
  },
  {
   "cell_type": "code",
   "execution_count": 53,
   "metadata": {},
   "outputs": [
    {
     "data": {
      "text/plain": [
       "(3, 128)"
      ]
     },
     "execution_count": 53,
     "metadata": {},
     "output_type": "execute_result"
    }
   ],
   "source": [
    "# получим первый фактор разложения Таккера\n",
    "\n",
    "U = (U1 @ np.diag(s1)).T\n",
    "U.shape \n",
    "\n",
    "# теперь у матрицы U размеры R x N, это первый фактор разложения Таккера"
   ]
  },
  {
   "cell_type": "code",
   "execution_count": 54,
   "metadata": {},
   "outputs": [],
   "source": [
    "V1 = V1.reshape(3*N, N)"
   ]
  },
  {
   "cell_type": "code",
   "execution_count": 55,
   "metadata": {},
   "outputs": [],
   "source": [
    "# второй раз вычисляем сокращённое SVD\n",
    "\n",
    "U2, s2, V2 = np.linalg.svd(V1, full_matrices=False)\n",
    "U2 = U2[:, :3]; s2 = s2[:3]; V2 = V2[:3, :]"
   ]
  },
  {
   "cell_type": "code",
   "execution_count": 56,
   "metadata": {},
   "outputs": [
    {
     "data": {
      "text/plain": [
       "(3, 128)"
      ]
     },
     "execution_count": 56,
     "metadata": {},
     "output_type": "execute_result"
    }
   ],
   "source": [
    "W = np.diag(s2) @ V2\n",
    "W.shape\n",
    "\n",
    "# матрица W - третий фактор разложения Таккера"
   ]
  },
  {
   "cell_type": "code",
   "execution_count": 57,
   "metadata": {},
   "outputs": [],
   "source": [
    "U2 = U2.reshape(3, N, 3)\n",
    "U2 = U2.transpose([1, 0, 2])\n",
    "U2 = U2.reshape(N, 3*3)"
   ]
  },
  {
   "cell_type": "code",
   "execution_count": 58,
   "metadata": {},
   "outputs": [],
   "source": [
    "# третий раз вычисляем сокращённое SVD\n",
    "\n",
    "U3, s3, V3 = np.linalg.svd(U2, full_matrices=False)\n",
    "U3 = U3[:, :3]; s3 = s3[:3]; V3 = V3[:3, :]"
   ]
  },
  {
   "cell_type": "code",
   "execution_count": 59,
   "metadata": {},
   "outputs": [
    {
     "data": {
      "text/plain": [
       "(3, 128)"
      ]
     },
     "execution_count": 59,
     "metadata": {},
     "output_type": "execute_result"
    }
   ],
   "source": [
    "V = (U3 @ np.diag(s3)).T\n",
    "V.shape\n",
    "\n",
    "# матрица V - второй фактор разложения Таккера"
   ]
  },
  {
   "cell_type": "code",
   "execution_count": 60,
   "metadata": {},
   "outputs": [],
   "source": [
    "g = V3.reshape(3, 3, 3).transpose([1, 0, 2])\n",
    "\n",
    "# трёхмерный массив g - это ядро Таккера"
   ]
  },
  {
   "cell_type": "code",
   "execution_count": 61,
   "metadata": {},
   "outputs": [],
   "source": [
    "A = A.reshape(N, N, N)"
   ]
  },
  {
   "cell_type": "code",
   "execution_count": 62,
   "metadata": {},
   "outputs": [
    {
     "data": {
      "text/plain": [
       "1.3278622645884752e-10"
      ]
     },
     "execution_count": 62,
     "metadata": {},
     "output_type": "execute_result"
    }
   ],
   "source": [
    "# проверим, что разложение Таккера вычислено правильно (для каждого A[i, j, k] ошибка мала)\n",
    "\n",
    "g.dot(W[:, 3]).dot(V[:, 4]).dot(U[:, 2]) - A[2, 4, 3]"
   ]
  },
  {
   "cell_type": "code",
   "execution_count": 65,
   "metadata": {},
   "outputs": [],
   "source": [
    "for i in range(N):\n",
    "    for j in range(N):\n",
    "        for k in range(N):\n",
    "            err = g.dot(W[:, k]).dot(V[:, j]).dot(U[:, i]) - A[i, j, k]\n",
    "            if abs(err) > 1e-7:\n",
    "                print('halt')\n",
    "                \n",
    "# получаем, что для каждого элемента ошибка не превосходит 10^(-7)"
   ]
  }
 ],
 "metadata": {
  "kernelspec": {
   "display_name": "Python 3",
   "language": "python",
   "name": "python3"
  },
  "language_info": {
   "codemirror_mode": {
    "name": "ipython",
    "version": 3
   },
   "file_extension": ".py",
   "mimetype": "text/x-python",
   "name": "python",
   "nbconvert_exporter": "python",
   "pygments_lexer": "ipython3",
   "version": "3.7.6"
  }
 },
 "nbformat": 4,
 "nbformat_minor": 4
}
